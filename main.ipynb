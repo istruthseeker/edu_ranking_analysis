{
  "nbformat": 4,
  "nbformat_minor": 0,
  "metadata": {
    "colab": {
      "provenance": [],
      "authorship_tag": "ABX9TyPbZCMIv3NXQPfCYqkE8MRJ",
      "include_colab_link": true
    },
    "kernelspec": {
      "name": "python3",
      "display_name": "Python 3"
    },
    "language_info": {
      "name": "python"
    }
  },
  "cells": [
    {
      "cell_type": "markdown",
      "metadata": {
        "id": "view-in-github",
        "colab_type": "text"
      },
      "source": [
        "<a href=\"https://colab.research.google.com/github/istruthseeker/edu_ranking_analysis/blob/main/main.ipynb\" target=\"_parent\"><img src=\"https://colab.research.google.com/assets/colab-badge.svg\" alt=\"Open In Colab\"/></a>"
      ]
    },
    {
      "cell_type": "code",
      "execution_count": null,
      "metadata": {
        "id": "jtIaRzzxtRIr"
      },
      "outputs": [],
      "source": [
        "import pandas as pd\n",
        "import matplotlib.pyplot as plt\n",
        "import seaborn as sns\n",
        "\n",
        "\n",
        "from google.colab import drive\n",
        "drive.mount('/content/drive')\n",
        "\n",
        "# Modify path of project\n",
        "project_dir = ''\n",
        "\n",
        "# Modify name of dataset\n",
        "dataset = pd.read_excel(project_dir+'',sheet_name=['2022','2021','2020','2019'])"
      ]
    },
    {
      "cell_type": "code",
      "source": [
        "\"\"\"\n",
        "Finding list of programs which is:\n",
        "- New comers\n",
        "- Stable participation\n",
        "- Significant move-up participation\n",
        "- Significant move-down participation\n",
        "Based on variance.\n",
        "\"\"\"\n",
        "\n",
        "\n",
        "# Change sheet name and numeric-based ranking columns\n",
        "df_2022 = dataset['2022']\n",
        "ranking_columns = ['', '']\n",
        "\n",
        "newcomers = []\n",
        "stable_schools = []\n",
        "significant_move_ups = []\n",
        "significant_move_downs = []\n",
        "\n",
        "\n",
        "for index, row in df_2022.iterrows():\n",
        "    school_name = row['School Name']\n",
        "\n",
        "    # Drop NaN value\n",
        "    rankings = row[ranking_columns].dropna()\n",
        "\n",
        "\n",
        "    if len(rankings) == 1:\n",
        "        newcomers.append(school_name)\n",
        "        continue\n",
        "\n",
        "    variances = rankings.diff()\n",
        "    #print(f\"School: {school_name}, variance: {variances}\")\n",
        "\n",
        "    if all(variances.abs() < 3):\n",
        "        stable_schools.append(school_name)\n",
        "\n",
        "    if any(variances >= 10):\n",
        "        significant_move_ups.append(school_name)\n",
        "\n",
        "    if any(variances <= -10):\n",
        "        significant_move_downs.append(school_name)\n",
        "\n",
        "\n",
        "print('Newcomers:', newcomers)\n",
        "print('Stable Schools:', stable_schools)\n",
        "print('Significant Move-Ups:', significant_move_ups)\n",
        "print('Significant Move-Downs:', significant_move_downs)"
      ],
      "metadata": {
        "id": "-a0US8A2tc-o"
      },
      "execution_count": null,
      "outputs": []
    },
    {
      "cell_type": "code",
      "source": [
        "# Numeric columns\n",
        "numeric_columns = df_2022.select_dtypes(include=['float64', 'int64']).columns\n",
        "numeric_columns"
      ],
      "metadata": {
        "id": "NIZRItubu1i_"
      },
      "execution_count": null,
      "outputs": []
    },
    {
      "cell_type": "code",
      "source": [
        "\"\"\"\n",
        "  Finding distribution and statistical information of metrics\n",
        "\"\"\"\n",
        "\n",
        "selected_metrics = numeric_columns\n",
        "\n",
        "# Change the list of schools, for now I choose newcomers\n",
        "selected_schools = newcomers\n",
        "\n",
        "filtered_df = df_2022[df_2022['Program_name'].isin(newcomers)]\n",
        "\n",
        "for column in selected_metrics:\n",
        "  print(f\"Describe Statiscal Information of {column}: \\n\")\n",
        "  print(filtered_df[column].describe())\n",
        "\n",
        "  plt.figure(figsize=(3,5))\n",
        "  sns.histplot(filtered_df[column], kde=True)\n",
        "  plt.ylabel(column)\n",
        "  plt.show()"
      ],
      "metadata": {
        "id": "-bsGAUl1u4Be"
      },
      "execution_count": null,
      "outputs": []
    },
    {
      "cell_type": "code",
      "source": [
        "\"\"\"\n",
        "  Finding distribution and statistical information of metrics based on rankings\n",
        "\"\"\"\n",
        "\n",
        "# Asume we have 4 ranks group\n",
        "ranking_groups = { '1-12': (1, 12), '13-43': (13, 43), '44-78': (44, 78), '79-100': (79, 100)}\n",
        "\n",
        "def finding_common(ranking_group):\n",
        "  for group_name, (x, y) in ranking_groups.items():\n",
        "      print(f\"Analysis for {group_name} ranking group:\")\n",
        "\n",
        "      filtered_df = df_2022[df_2022[\"#\"].between(x, y)]\n",
        "      for column in selected_metrics:\n",
        "        print(f\"Describe Statiscal Information of {column}: \\n\")\n",
        "        print(filtered_df[column].describe())\n",
        "\n",
        "        # Plotting the distribution\n",
        "        plt.figure(figsize=(3,5))\n",
        "        sns.histplot(filtered_df[column], kde=True)\n",
        "        plt.ylabel(column)\n",
        "        plt.show()\n"
      ],
      "metadata": {
        "id": "vsnHXPUEtuKH"
      },
      "execution_count": null,
      "outputs": []
    }
  ]
}